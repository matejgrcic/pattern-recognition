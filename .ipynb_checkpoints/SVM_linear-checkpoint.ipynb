{
 "cells": [
  {
   "cell_type": "code",
   "execution_count": 2,
   "metadata": {},
   "outputs": [],
   "source": [
    "import numpy as np\n",
    "from sklearn.svm import SVC"
   ]
  },
  {
   "cell_type": "code",
   "execution_count": 29,
   "metadata": {},
   "outputs": [],
   "source": [
    "X = np.array([\n",
    "    [1, 1],\n",
    "    [1, -1],\n",
    "    [-1, 1],\n",
    "    [-1, -1]\n",
    "])\n",
    "y = np.array([1, 1, 0, 0])"
   ]
  },
  {
   "cell_type": "markdown",
   "metadata": {},
   "source": [
    "**VAZNO:** Raspisi jednadzbe na papir da zavaras asistenta"
   ]
  },
  {
   "cell_type": "code",
   "execution_count": 30,
   "metadata": {},
   "outputs": [
    {
     "name": "stdout",
     "output_type": "stream",
     "text": [
      "b: 0.0\n",
      "Support vectors indices: [3 1] <- Start with index 0!\n",
      "Dual coef_ (lambdas): [[-0.5  0.5]] <- remove any minus that occurs\n"
     ]
    }
   ],
   "source": [
    "model = SVC(kernel='linear')\n",
    "model.fit(X, y)\n",
    "print(f\"b: {model.coef0}\")\n",
    "print(f\"Support vectors indices: {model.support_} <- Start with index 0!\")\n",
    "print(f\"Dual coef_ (lambdas): {model.dual_coef_} <- remove any minus that occurs\") # jer mi dobijamo minus iz di"
   ]
  },
  {
   "cell_type": "code",
   "execution_count": 31,
   "metadata": {},
   "outputs": [
    {
     "name": "stdout",
     "output_type": "stream",
     "text": [
      "g(x) = 1.0 * x1 + 0.0 * x2 + 0.0\n"
     ]
    }
   ],
   "source": [
    "print(f\"g(x) = {model.coef_[0, 0]} * x1 + {model.coef_[0,1]} * x2 + {model.coef0}\")"
   ]
  }
 ],
 "metadata": {
  "kernelspec": {
   "display_name": "Python 3",
   "language": "python",
   "name": "python3"
  },
  "language_info": {
   "codemirror_mode": {
    "name": "ipython",
    "version": 3
   },
   "file_extension": ".py",
   "mimetype": "text/x-python",
   "name": "python",
   "nbconvert_exporter": "python",
   "pygments_lexer": "ipython3",
   "version": "3.6.5"
  }
 },
 "nbformat": 4,
 "nbformat_minor": 2
}
