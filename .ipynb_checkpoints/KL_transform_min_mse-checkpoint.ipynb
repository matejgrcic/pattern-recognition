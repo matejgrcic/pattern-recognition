{
 "cells": [
  {
   "cell_type": "code",
   "execution_count": 2,
   "metadata": {},
   "outputs": [],
   "source": [
    "import numpy as np\n",
    "import sklearn\n",
    "import matplotlib.pyplot as plt"
   ]
  },
  {
   "cell_type": "code",
   "execution_count": 3,
   "metadata": {},
   "outputs": [],
   "source": [
    "w1 = [\n",
    "    [0, 0, 0],\n",
    "    [1, 0, 0],\n",
    "    [1, 0, 1],\n",
    "    [1, 1, 0]]\n",
    "p_w1 = 0.5"
   ]
  },
  {
   "cell_type": "code",
   "execution_count": 4,
   "metadata": {},
   "outputs": [],
   "source": [
    "w2 = [\n",
    "    [0, 0, 1],\n",
    "    [0, 1, 0],\n",
    "    [0, 1, 1],\n",
    "    [1, 1, 1]]\n",
    "p_w2 = 0.5"
   ]
  },
  {
   "cell_type": "code",
   "execution_count": 9,
   "metadata": {},
   "outputs": [
    {
     "name": "stdout",
     "output_type": "stream",
     "text": [
      "Input space dimension: 3\n"
     ]
    }
   ],
   "source": [
    "r = len(w1[0])\n",
    "print('Input space dimension:', r)"
   ]
  },
  {
   "cell_type": "code",
   "execution_count": 12,
   "metadata": {},
   "outputs": [
    {
     "name": "stdout",
     "output_type": "stream",
     "text": [
      "R1: [[0.375 0.125 0.125]\n",
      " [0.125 0.125 0.   ]\n",
      " [0.125 0.    0.125]]\n"
     ]
    }
   ],
   "source": [
    "R_w1 = np.zeros((r, r))\n",
    "N_w1 = len(w1)\n",
    "for w in w1:\n",
    "    R_w1 += np.matmul(np.array([w]).T, np.array([w]))\n",
    "R_w1 *= (p_w1 / N_w1) \n",
    "print('R1:',R_w1)"
   ]
  },
  {
   "cell_type": "code",
   "execution_count": 13,
   "metadata": {},
   "outputs": [
    {
     "name": "stdout",
     "output_type": "stream",
     "text": [
      "R2: [[0.125 0.125 0.125]\n",
      " [0.125 0.375 0.25 ]\n",
      " [0.125 0.25  0.375]]\n"
     ]
    }
   ],
   "source": [
    "R_w2 = np.zeros((r, r))\n",
    "N_w2 = len(w2)\n",
    "for w in w2:\n",
    "    R_w2 += np.matmul(np.array([w]).T, np.array([w]))\n",
    "R_w2 *= (p_w2 / N_w2) \n",
    "print('R2:',R_w2)"
   ]
  },
  {
   "cell_type": "code",
   "execution_count": 14,
   "metadata": {},
   "outputs": [
    {
     "data": {
      "text/plain": [
       "array([[0.5 , 0.25, 0.25],\n",
       "       [0.25, 0.5 , 0.25],\n",
       "       [0.25, 0.25, 0.5 ]])"
      ]
     },
     "execution_count": 14,
     "metadata": {},
     "output_type": "execute_result"
    }
   ],
   "source": [
    "R = R_w1 + R_w2\n",
    "R"
   ]
  },
  {
   "cell_type": "code",
   "execution_count": 16,
   "metadata": {},
   "outputs": [
    {
     "name": "stdout",
     "output_type": "stream",
     "text": [
      "eigenvalues: [0.25 1.   0.25]\n",
      "eigenvectors: [[-0.81649658  0.57735027 -0.32444284]\n",
      " [ 0.40824829  0.57735027 -0.48666426]\n",
      " [ 0.40824829  0.57735027  0.81110711]]\n"
     ]
    }
   ],
   "source": [
    "lambdas, vectors = np.linalg.eig(R)\n",
    "print(f\"eigenvalues: {lambdas}\")\n",
    "print(f\"eigenvectors: {vectors}\")"
   ]
  },
  {
   "cell_type": "code",
   "execution_count": 17,
   "metadata": {
    "scrolled": false
   },
   "outputs": [
    {
     "data": {
      "text/plain": [
       "array([0.25, 1.  , 0.25])"
      ]
     },
     "execution_count": 17,
     "metadata": {},
     "output_type": "execute_result"
    }
   ],
   "source": [
    "lambdas"
   ]
  },
  {
   "cell_type": "code",
   "execution_count": 28,
   "metadata": {},
   "outputs": [
    {
     "data": {
      "text/plain": [
       "array([[ 0.40824829,  0.57735027, -0.48666426],\n",
       "       [ 0.40824829,  0.57735027,  0.81110711]])"
      ]
     },
     "execution_count": 28,
     "metadata": {},
     "output_type": "execute_result"
    }
   ],
   "source": [
    "# n = 2\n",
    "A = np.array([vectors[1,:], vectors[2, :]])\n",
    "A"
   ]
  },
  {
   "cell_type": "code",
   "execution_count": 36,
   "metadata": {},
   "outputs": [
    {
     "data": {
      "text/plain": [
       "array([[ 0.        ,  0.        ],\n",
       "       [ 0.40824829,  0.40824829],\n",
       "       [-0.07841597,  1.2193554 ],\n",
       "       [ 0.98559856,  0.98559856]])"
      ]
     },
     "execution_count": 36,
     "metadata": {},
     "output_type": "execute_result"
    }
   ],
   "source": [
    "w1_tr = np.matmul(A, np.array(w1).T).T\n",
    "w1_tr"
   ]
  },
  {
   "cell_type": "code",
   "execution_count": 37,
   "metadata": {},
   "outputs": [
    {
     "data": {
      "text/plain": [
       "array([[-0.48666426,  0.81110711],\n",
       "       [ 0.57735027,  0.57735027],\n",
       "       [ 0.09068601,  1.38845737],\n",
       "       [ 0.4989343 ,  1.79670567]])"
      ]
     },
     "execution_count": 37,
     "metadata": {},
     "output_type": "execute_result"
    }
   ],
   "source": [
    "w2_tr = np.matmul(A, np.array(w2).T).T\n",
    "w2_tr"
   ]
  },
  {
   "cell_type": "code",
   "execution_count": 40,
   "metadata": {},
   "outputs": [
    {
     "data": {
      "image/png": "[encoded data removed]",
      "text/plain": [
       "<Figure size 432x288 with 1 Axes>"
      ]
     },
     "metadata": {
      "needs_background": "light"
     },
     "output_type": "display_data"
    }
   ],
   "source": [
    "plt.scatter(w1_tr[:, 0], w1_tr[:, 1])\n",
    "plt.scatter(w2_tr[:, 0], w2_tr[:, 1])\n",
    "plt.show()"
   ]
  },
  {
   "cell_type": "code",
   "execution_count": null,
   "metadata": {},
   "outputs": [],
   "source": []
  }
 ],
 "metadata": {
  "kernelspec": {
   "display_name": "Python 3",
   "language": "python",
   "name": "python3"
  },
  "language_info": {
   "codemirror_mode": {
    "name": "ipython",
    "version": 3
   },
   "file_extension": ".py",
   "mimetype": "text/x-python",
   "name": "python",
   "nbconvert_exporter": "python",
   "pygments_lexer": "ipython3",
   "version": "3.6.5"
  }
 },
 "nbformat": 4,
 "nbformat_minor": 2
}
