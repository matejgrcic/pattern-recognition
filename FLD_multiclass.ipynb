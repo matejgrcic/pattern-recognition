{
 "cells": [
  {
   "cell_type": "code",
   "execution_count": 1,
   "metadata": {},
   "outputs": [],
   "source": [
    "import numpy as np"
   ]
  },
  {
   "cell_type": "code",
   "execution_count": 3,
   "metadata": {},
   "outputs": [],
   "source": [
    "w1 = [[2, 0], [4, 0]]\n",
    "w2 = [[0, -2], [0, -4]]\n",
    "w3 = [[2, -2], [4, -4]]\n",
    "\n",
    "w1_np = np.array(w1)\n",
    "w2_np = np.array(w2)\n",
    "w3_np = np.array(w3)"
   ]
  },
  {
   "cell_type": "code",
   "execution_count": 5,
   "metadata": {},
   "outputs": [
    {
     "name": "stdout",
     "output_type": "stream",
     "text": [
      "m1 [3. 0.]\n",
      "m2 [ 0. -3.]\n",
      "m3 [ 3. -3.]\n"
     ]
    }
   ],
   "source": [
    "m1 = np.mean(w1_np, axis=0)\n",
    "m2 = np.mean(w2_np, axis=0)\n",
    "m3 = np.mean(w3_np, axis=0)\n",
    "print('m1', m1)\n",
    "print('m2', m2)\n",
    "print('m3', m3)"
   ]
  },
  {
   "cell_type": "code",
   "execution_count": 6,
   "metadata": {},
   "outputs": [
    {
     "data": {
      "text/plain": [
       "array([[2., 0.],\n",
       "       [0., 0.]])"
      ]
     },
     "execution_count": 6,
     "metadata": {},
     "output_type": "execute_result"
    }
   ],
   "source": [
    "s1 = w1_np - np.ones(w1_np.shape) * m1\n",
    "S1 = np.matmul(s1.T, s1)\n",
    "S1"
   ]
  },
  {
   "cell_type": "code",
   "execution_count": 7,
   "metadata": {},
   "outputs": [
    {
     "data": {
      "text/plain": [
       "array([[0., 0.],\n",
       "       [0., 2.]])"
      ]
     },
     "execution_count": 7,
     "metadata": {},
     "output_type": "execute_result"
    }
   ],
   "source": [
    "s2 = w2_np - np.ones(w2_np.shape) * m2\n",
    "S2 = np.matmul(s2.T, s2)\n",
    "S2"
   ]
  },
  {
   "cell_type": "code",
   "execution_count": 8,
   "metadata": {},
   "outputs": [
    {
     "data": {
      "text/plain": [
       "array([[ 2., -2.],\n",
       "       [-2.,  2.]])"
      ]
     },
     "execution_count": 8,
     "metadata": {},
     "output_type": "execute_result"
    }
   ],
   "source": [
    "s3 = w3_np - np.ones(w3_np.shape) * m3\n",
    "S3 = np.matmul(s3.T, s3)\n",
    "S3"
   ]
  },
  {
   "cell_type": "code",
   "execution_count": 9,
   "metadata": {},
   "outputs": [
    {
     "data": {
      "text/plain": [
       "array([[ 4., -2.],\n",
       "       [-2.,  4.]])"
      ]
     },
     "execution_count": 9,
     "metadata": {},
     "output_type": "execute_result"
    }
   ],
   "source": [
    "Sw = S1 + S2 + S3\n",
    "Sw"
   ]
  },
  {
   "cell_type": "code",
   "execution_count": 15,
   "metadata": {},
   "outputs": [],
   "source": [
    "m = (m1 * len(w1) + m2 * len(w2) + m3 * len(w3))/ (len(w1 + w2 + w3))\n",
    "m = m.reshape(1, 2)"
   ]
  },
  {
   "cell_type": "code",
   "execution_count": 20,
   "metadata": {},
   "outputs": [
    {
     "data": {
      "text/plain": [
       "array([[12.,  6.],\n",
       "       [ 6., 12.]])"
      ]
     },
     "execution_count": 20,
     "metadata": {},
     "output_type": "execute_result"
    }
   ],
   "source": [
    "Sb = (len(w1) * np.matmul((m1 - m).T, (m1 - m)) + len(w2) * np.matmul((m2 - m).T, m2 - m) + len(w3) * np.matmul((m3 - m).T, m3 - m))\n",
    "Sb"
   ]
  },
  {
   "cell_type": "code",
   "execution_count": 21,
   "metadata": {},
   "outputs": [
    {
     "data": {
      "text/plain": [
       "array([[-24.,  24.],\n",
       "       [ 24., -24.]])"
      ]
     },
     "execution_count": 21,
     "metadata": {},
     "output_type": "execute_result"
    }
   ],
   "source": [
    "lmbda = 9\n",
    "Sb - lmbda * Sw"
   ]
  },
  {
   "cell_type": "code",
   "execution_count": null,
   "metadata": {},
   "outputs": [],
   "source": []
  }
 ],
 "metadata": {
  "kernelspec": {
   "display_name": "Python 3",
   "language": "python",
   "name": "python3"
  },
  "language_info": {
   "codemirror_mode": {
    "name": "ipython",
    "version": 3
   },
   "file_extension": ".py",
   "mimetype": "text/x-python",
   "name": "python",
   "nbconvert_exporter": "python",
   "pygments_lexer": "ipython3",
   "version": "3.6.5"
  }
 },
 "nbformat": 4,
 "nbformat_minor": 2
}
